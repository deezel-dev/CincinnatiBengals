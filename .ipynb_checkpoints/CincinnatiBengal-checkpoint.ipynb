{
 "cells": [
  {
   "cell_type": "markdown",
   "id": "7a0ca5eb",
   "metadata": {},
   "source": [
    "Cincinnati Bengals - Code Challenge"
   ]
  },
  {
   "cell_type": "code",
   "execution_count": null,
   "id": "88f5a5ee",
   "metadata": {},
   "outputs": [],
   "source": [
    "# imports\n",
    "import boto3\n",
    "import pandas as pd\n",
    "import psycopg2 \n",
    "from sqlalchemy import create_engine"
   ]
  },
  {
   "cell_type": "code",
   "execution_count": null,
   "id": "151c3395",
   "metadata": {},
   "outputs": [],
   "source": [
    "# constants\n",
    "HOST = 'ls-2619b6b15c9bdc80a23f6afb7eee54cf0247da21.ca3yee6xneaj.us-east-1.rds.amazonaws.com'\n",
    "PORT=\"5432\"\n",
    "REGION=\"us-east-1\"\n",
    "DATABASE = 'postgres'\n",
    "USER = 'danny_sostre'\n",
    "PW = 'sannydostre'\n",
    "TABLE = 'danny_sostre'\n",
    "\n",
    "AWS_BUCKET = 'mindex-data-analytics-code-challenge'\n",
    "\n",
    "BENGALS = 'bengals.csv'\n",
    "BOYD = 'boyd_receiving.csv'\n",
    "CHASE = 'chase_receiving.csv'\n",
    "HIGGINS = 'higgins_receiving.csv'"
   ]
  },
  {
   "cell_type": "code",
   "execution_count": null,
   "id": "15f4720a",
   "metadata": {},
   "outputs": [],
   "source": [
    "# function to download aws file\n",
    "def download_aws_file(bucket, filename, new_filename):\n",
    "    s3 = boto3.client('s3')\n",
    "    s3.download_file(bucket, filename, new_filename)"
   ]
  },
  {
   "cell_type": "code",
   "execution_count": null,
   "id": "5f6d1f0e",
   "metadata": {},
   "outputs": [],
   "source": [
    "# function to download all files neccessary for project\n",
    "def download_aws_files():\n",
    "    download_aws_file(AWS_BUCKET, BENGALS, BENGALS)\n",
    "    download_aws_file(AWS_BUCKET, BOYD, BOYD)\n",
    "    download_aws_file(AWS_BUCKET, CHASE, CHASE)\n",
    "    download_aws_file(AWS_BUCKET, HIGGINS, HIGGINS)"
   ]
  },
  {
   "cell_type": "code",
   "execution_count": null,
   "id": "a43da2f0",
   "metadata": {},
   "outputs": [],
   "source": [
    "# function to get dataframe from file\n",
    "def get_df_from_file(filename):\n",
    "    df = pd.read_csv (filename)\n",
    "    return df"
   ]
  },
  {
   "cell_type": "code",
   "execution_count": null,
   "id": "02557679",
   "metadata": {},
   "outputs": [],
   "source": [
    "# function to merge all 4 stat files -- outer join\n",
    "def get_merged_df():\n",
    "\n",
    "    csv_bengals = get_df_from_file(BENGALS)\n",
    "\n",
    "    csv_boyd = get_df_from_file(BOYD)\n",
    "    csv_boyd.rename(columns={'Yards': 'YardsBoyd', 'TD': 'TD_Boyd'}, inplace = True)\n",
    "\n",
    "    csv_chase = get_df_from_file(CHASE)\n",
    "    csv_chase.rename(columns={'Yards': 'YardsChase', 'TD': 'TD_Chase'}, inplace = True)\n",
    "\n",
    "    csv_higgins = get_df_from_file(HIGGINS)\n",
    "    csv_higgins.rename(columns={'Yards': 'YardsHiggins', 'TD': 'TD_Higgins'}, inplace = True)\n",
    "\n",
    "    merged_df = pd.merge(csv_bengals, pd.merge(csv_boyd, pd.merge(csv_chase, csv_higgins, on=\"Week\", how='outer'), on=\"Week\", how='outer'), on=\"Week\", how='outer')\n",
    "    merged_df['Result'] = merged_df['Result'].replace([1.0, 0.0],['Win', 'Loss'])\n",
    "    return merged_df"
   ]
  },
  {
   "cell_type": "code",
   "execution_count": null,
   "id": "334b9464",
   "metadata": {},
   "outputs": [],
   "source": [
    "# get records from database\n",
    "def get_records (select_sql):\n",
    "    connection = None\n",
    "    try:\n",
    "        connection = psycopg2.connect(\n",
    "            host=HOST,\n",
    "            database=DATABASE,\n",
    "            user=USER,\n",
    "            password=PW)\n",
    "        cursor = connection.cursor()\n",
    "\n",
    "        cursor.execute(select_sql)\n",
    "        results = cursor.fetchall()\n",
    "        return results\n",
    "\n",
    "    except (Exception, psycopg2.Error) as error:\n",
    "        print(\"Error while fetching data from PostgreSQL\", error)\n",
    "\n",
    "    finally:\n",
    "        # closing database connection.\n",
    "        if connection:\n",
    "            cursor.close()\n",
    "            connection.close()\n",
    "            print(\"PostgreSQL connection is closed\")"
   ]
  },
  {
   "cell_type": "code",
   "execution_count": null,
   "id": "9f3fa78c",
   "metadata": {},
   "outputs": [],
   "source": [
    "# insert records from dataframe\n",
    "def insert_dataframe (df):    \n",
    "    connection = None\n",
    "    conn_string = 'postgresql://' + USER + ':' + PW + '@' + HOST + '/' + DATABASE\n",
    "    db = create_engine(conn_string)\n",
    "    try:\n",
    "        connection = db.connect()\n",
    "        df.to_sql(TABLE, con=connection, if_exists='replace', index=True)\n",
    "        connection = psycopg2.connect(conn_string)\n",
    "        connection.autocommit = True\n",
    "        cursor = connection.cursor()  \n",
    "\n",
    "    except (Exception, psycopg2.Error) as error:\n",
    "        print(\"Error while fetching data from PostgreSQL\", error)\n",
    "\n",
    "    finally:\n",
    "        # closing database connection.\n",
    "        if connection:\n",
    "            cursor.close()\n",
    "            connection.close()\n",
    "            print(\"PostgreSQL connection is closed\")  "
   ]
  },
  {
   "cell_type": "code",
   "execution_count": null,
   "id": "1e21c222",
   "metadata": {},
   "outputs": [],
   "source": [
    "# get files\n",
    "download_aws_files()\n",
    "\n",
    "#merge dataframes\n",
    "merged_df = get_merged_df()\n",
    "insert_dataframe(merged_df)\n",
    "\n",
    "# get records and print\n",
    "records = get_records('SELECT * FROM ' + TABLE)\n",
    "for r in records:\n",
    "    print(r)"
   ]
  }
 ],
 "metadata": {
  "kernelspec": {
   "display_name": "Python 3 (ipykernel)",
   "language": "python",
   "name": "python3"
  },
  "language_info": {
   "codemirror_mode": {
    "name": "ipython",
    "version": 3
   },
   "file_extension": ".py",
   "mimetype": "text/x-python",
   "name": "python",
   "nbconvert_exporter": "python",
   "pygments_lexer": "ipython3",
   "version": "3.9.12"
  }
 },
 "nbformat": 4,
 "nbformat_minor": 5
}
